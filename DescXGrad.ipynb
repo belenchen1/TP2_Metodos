{
 "cells": [
  {
   "cell_type": "code",
   "execution_count": 2,
   "metadata": {},
   "outputs": [
    {
     "ename": "ModuleNotFoundError",
     "evalue": "No module named 'numpy'",
     "output_type": "error",
     "traceback": [
      "\u001b[1;31m---------------------------------------------------------------------------\u001b[0m",
      "\u001b[1;31mModuleNotFoundError\u001b[0m                       Traceback (most recent call last)",
      "Cell \u001b[1;32mIn[2], line 1\u001b[0m\n\u001b[1;32m----> 1\u001b[0m \u001b[38;5;28;01mimport\u001b[39;00m \u001b[38;5;21;01mnumpy\u001b[39;00m \u001b[38;5;28;01mas\u001b[39;00m \u001b[38;5;21;01mnp\u001b[39;00m\n\u001b[0;32m      2\u001b[0m \u001b[38;5;28;01mimport\u001b[39;00m \u001b[38;5;21;01msympy\u001b[39;00m \u001b[38;5;28;01mas\u001b[39;00m \u001b[38;5;21;01msp\u001b[39;00m\n\u001b[0;32m      3\u001b[0m \u001b[38;5;28;01mimport\u001b[39;00m \u001b[38;5;21;01mmatplotlib\u001b[39;00m\u001b[38;5;21;01m.\u001b[39;00m\u001b[38;5;21;01mpyplot\u001b[39;00m \u001b[38;5;28;01mas\u001b[39;00m \u001b[38;5;21;01mplt\u001b[39;00m\n",
      "\u001b[1;31mModuleNotFoundError\u001b[0m: No module named 'numpy'"
     ]
    }
   ],
   "source": [
    "import numpy as np\n",
    "import sympy as sp\n",
    "import matplotlib.pyplot as plt\n",
    "from PIL import Image\n",
    "import os\n",
    "import math"
   ]
  },
  {
   "cell_type": "code",
   "execution_count": null,
   "metadata": {},
   "outputs": [],
   "source": [
    "# def f(w:list, b:int, i:list[list]): # funcion normal. f \n",
    "#    return (math.tanh(w@i + b) + 1)/2\n",
    "\n",
    "def f(w,b, i, d): # lagrangiano\n",
    "   # funcion a minimizar\n",
    "   sum = 0\n",
    "   idx = 0\n",
    "   for imagen in i:\n",
    "      # (imagen=vector) \n",
    "      t_0:float = math.tanh(b+w@imagen) \n",
    "      sum += ((t_0 + 1) / 2 - d[idx])**2\n",
    "      idx += 1\n",
    "   return sum\n",
    "\n",
    "def dfw(w,b, i:list[list], d:list):\n",
    "   # derivada del lagrangiano contra w\n",
    "   idx = 0\n",
    "   sum = 0\n",
    "   for imagen in i:\n",
    "      # (imagen=vector) le queremos pasar una columna de i porque en la formula usa un vector (col de i)\n",
    "      t_0:float = math.tanh(b+w@imagen) \n",
    "      sum += (1-t_0**2)*(((t_0+1)/2-d[idx]))*imagen\n",
    "      idx += 1 \n",
    "   return sum\n",
    "\n",
    "def dfb(w,b, i:list[list], d:list):\n",
    "   # derivada del lagrangiano contra b\n",
    "   sum = 0\n",
    "   idx = 0\n",
    "   for imagen in i:\n",
    "      # (imagen=vector) le queremos pasar una columna de i porque en la formula usa un vector (col de i)\n",
    "      t_0:float = math.tanh(b+w@imagen) \n",
    "      sum += (1-t_0**2)*(((t_0+1)/2-d[idx]))\n",
    "      idx += 1 \n",
    "   return sum\n",
    "\n",
    "def gradiente(x_t,i:list[list],d:list):\n",
    "   # x es un punto de i_j (imagen aplanada = vector de tamaño escala*escala) (i: conjunto de imagenes)(i_j:imagen j del conjunto)\n",
    "   # gradiente tiene una tupla: derivada de f contra b, derivada de f contra w.\n",
    "   # n es la cant de columnas de la imagen == escala == sqrt(imagen.shape)\n",
    "   # para acceder a la posicion x_t de una imagen aplanada hay que acceder a la pos (x_t[0]*(sqrt(imagen.shape)))+x_t[1]\n",
    "      # ? d tmb es un dato... pero que?\n",
    "   w = x_t[0]\n",
    "   b = x_t[1]\n",
    "   db = dfb(w,b,i,d)\n",
    "   dw = dfw(w,b,i,d)\n",
    "   return (db,dw) \n",
    "   \n",
    "# x_0 es un punto aleatorio en Rn\n",
    "# x_0 va a tener un valor aleatorio de b y un valor aleatorio de w\n",
    "def descenso_por_gradiente(i, d):\n",
    "   # función a optimizar\n",
    "   K = len(i[0])\n",
    "   # Multiplicar por 0.01 para reducir la escala de los valores (???)\n",
    "   w_0 = np.random.randn(K) * 0.01  # w es un vector de R^K tq K=cant de píxeles en una imagen\n",
    "   b_0 = np.random.randn() * 0.01\n",
    "   x_t = (w_0, b_0)\n",
    "   x_tsig = x_t\n",
    "   alpha = 0.1\n",
    "   TOLERANCIA = 0.0001\n",
    "   MAX_ITER = 10000\n",
    "   iter = 0\n",
    "   while iter < MAX_ITER: # necesitamos esto porque no tenemos x_tsig al pcpio\n",
    "      x_tsig = x_t - (alpha * gradiente(x_t, i, d))\n",
    "      if abs(f(x_tsig, i, d) - f(x_t, i, d)) < TOLERANCIA:\n",
    "         break\n",
    "      x_t = x_tsig\n",
    "      iter = iter + 1\n",
    "\n",
    "   return x_tsig\n",
    "\n"
   ]
  },
  {
   "cell_type": "code",
   "execution_count": null,
   "metadata": {},
   "outputs": [
    {
     "name": "stdout",
     "output_type": "stream",
     "text": [
      "[0.69019608 0.43921569 0.25490196 ... 0.11764706 0.12156863 0.1254902 ]\n",
      "(1024,)\n"
     ]
    }
   ],
   "source": [
    "def abrirImagenesEscaladas(carpeta, escala=64):\n",
    "    # abre todas las imagenes de la carpeta, y las escala de tal forma que midan (escala x escala)px\n",
    "    # devuelve las imagenes aplanadas -> vectores de tamano escala^2 con valores entre 0 y 1\n",
    "    imagenes = []\n",
    "\n",
    "    for dirpath, dirnames, filenames in os.walk(carpeta):\n",
    "        for file in filenames:\n",
    "            img = Image.open( os.path.join(carpeta, file) )\n",
    "            img = img.resize((escala, escala))\n",
    "            img.convert('1')\n",
    "            img = np.asarray(img)\n",
    "            if len(img.shape)==3:\n",
    "                img = img[:,:,0].reshape((escala**2 )) / 255\n",
    "            else:\n",
    "                img = img.reshape((escala**2 )) / 255\n",
    "            \n",
    "            imagenes.append( img )\n",
    "    \n",
    "    return imagenes\n",
    "\n",
    "imagenes = abrirImagenesEscaladas('Instancia', 32)\n",
    "print(imagenes[0]) # una imagen aplanada es un vector de escala*escala, no una matriz!!!\n",
    "print(imagenes[0].shape)"
   ]
  },
  {
   "cell_type": "markdown",
   "metadata": {},
   "source": []
  },
  {
   "cell_type": "code",
   "execution_count": null,
   "metadata": {},
   "outputs": [
    {
     "ename": "NameError",
     "evalue": "name 'abrirImagenesEscaladas' is not defined",
     "output_type": "error",
     "traceback": [
      "\u001b[1;31m---------------------------------------------------------------------------\u001b[0m",
      "\u001b[1;31mNameError\u001b[0m                                 Traceback (most recent call last)",
      "Cell \u001b[1;32mIn[1], line 21\u001b[0m\n\u001b[0;32m     17\u001b[0m     random\u001b[38;5;241m.\u001b[39mshuffle(imagenes_entrenamiento_balanceadas)\n\u001b[0;32m     19\u001b[0m     \u001b[38;5;28;01mreturn\u001b[39;00m imagenes_entrenamiento_balanceadas\n\u001b[1;32m---> 21\u001b[0m normal \u001b[38;5;241m=\u001b[39m abrirImagenesEscaladas(\u001b[38;5;124m'\u001b[39m\u001b[38;5;124m./chest_ray/NORMAL\u001b[39m\u001b[38;5;124m'\u001b[39m, \u001b[38;5;241m64\u001b[39m)\n\u001b[0;32m     22\u001b[0m pneumonia \u001b[38;5;241m=\u001b[39m abrirImagenesEscaladas(\u001b[38;5;124m'\u001b[39m\u001b[38;5;124m./chest_ray/PNEUMONIA\u001b[39m\u001b[38;5;124m'\u001b[39m, \u001b[38;5;241m64\u001b[39m)\n\u001b[0;32m     24\u001b[0m lista_entera \u001b[38;5;241m=\u001b[39m normal \u001b[38;5;241m+\u001b[39m pneumonia\n",
      "\u001b[1;31mNameError\u001b[0m: name 'abrirImagenesEscaladas' is not defined"
     ]
    }
   ],
   "source": [
    "import random\n",
    "def balancear_datos(imagenes_entrenamiento):\n",
    "    \n",
    "    positivo = []\n",
    "    negativo = []\n",
    "    for imagen in imagenes_entrenamiento:\n",
    "        if \"bacteria\" in imagen or \"virus\" in imagen:\n",
    "            positivo.append(imagen)\n",
    "        else:\n",
    "            negativo.append(imagen)\n",
    "            \n",
    "    n = min(len(positivo), len(negativo))\n",
    "    pos = positivo[:n]\n",
    "    neg = negativo[:n]\n",
    "    \n",
    "    imagenes_entrenamiento_balanceadas = (pos+neg)\n",
    "    random.shuffle(imagenes_entrenamiento_balanceadas)\n",
    "    \n",
    "    return imagenes_entrenamiento_balanceadas\n",
    "\n",
    "normal = abrirImagenesEscaladas('./chest_ray/NORMAL', 64)\n",
    "pneumonia = abrirImagenesEscaladas('./chest_ray/PNEUMONIA', 64)\n",
    "\n",
    "lista_entera = normal + pneumonia\n",
    "\n",
    "balancear_datos(lista_entera)"
   ]
  }
 ],
 "metadata": {
  "kernelspec": {
   "display_name": "metodos",
   "language": "python",
   "name": "python3"
  },
  "language_info": {
   "codemirror_mode": {
    "name": "ipython",
    "version": 3
   },
   "file_extension": ".py",
   "mimetype": "text/x-python",
   "name": "python",
   "nbconvert_exporter": "python",
   "pygments_lexer": "ipython3",
   "version": "3.12.4"
  }
 },
 "nbformat": 4,
 "nbformat_minor": 2
}
