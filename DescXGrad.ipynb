{
 "cells": [
  {
   "cell_type": "code",
   "execution_count": 1,
   "metadata": {},
   "outputs": [],
   "source": [
    "import numpy as np\n",
    "import sympy as sp\n",
    "import matplotlib.pyplot as plt\n",
    "from PIL import Image\n",
    "import os\n",
    "import math"
   ]
  },
  {
   "cell_type": "code",
   "execution_count": null,
   "metadata": {},
   "outputs": [],
   "source": [
    "def f(x, b, w, i, d):\n",
    "   return ((math.tanh(w * i + b) + 1) / 2 - d)**2\n",
    "def dfw(b, w, i, d):\n",
    "   t_0 = math.tanh(b+w*i)\n",
    "   return (1-t_0**2)*(((t_0+1)/2)-d)*i\n",
    "def dfb(b, w, i, d):\n",
    "   t_0 = math.tanh(b+w*i)\n",
    "   return (1-t_0**2)*(((t_0+1)/2)-d)\n",
    "   \n",
    "def descenso_por_gradiente(w, b, i, d, x_0):\n",
    "   # función a optimizar\n",
    "   # Valor inicial de x\n",
    "   gradiente = [dfb(w,b,i,d),dfw(w,b,i,d)]\n",
    "   x_t   = x_0\n",
    "   alpha = 0.1\n",
    "   TOLERANCIA = 0.0001\n",
    "   iter = 0\n",
    "   while abs(f(x_tsig, b, w, i, d) - f(x_t, b, w, i, d)) > TOLERANCIA:\n",
    "      x_tsig = x_t - alpha * gradiente\n",
    "      x_t = x_tsig\n",
    "      iter = iter + 1\n",
    "\n",
    "   return x_tsig\n",
    "\n",
    "\n",
    "   # Para la optimizacion: arrancar de un punto cualquiera y seguir el gradiente en direccion opuesta\n",
    "      # x es un punto inicial aleatorio\n",
    "      # d es una lista de diagnosticos? o sea de 1sy 0s?\n",
    "      # regla de actualizacion -> (x1, ..., xn) - alpha * gradiente((x1, ..., xn))\n",
    "      # Criterio de convergencia (identifica un \"plateau\")"
   ]
  },
  {
   "cell_type": "code",
   "execution_count": 26,
   "metadata": {},
   "outputs": [],
   "source": [
    "def abrirImagenesEscaladas( carpeta, escala=32 ):\n",
    "    # abre todas las imagenes de la carpeta, y las escala de tal forma que midan (escala x escala)px\n",
    "    # devuelve las imagenes aplanadas -> vectores de tamano escala^2 con valores entre 0 y 1\n",
    "    imagenes = []\n",
    "\n",
    "    for dirpath, dirnames, filenames in os.walk(carpeta):\n",
    "        for file in filenames:\n",
    "            img = Image.open( os.path.join(carpeta, file) )\n",
    "            img = img.resize((escala, escala))\n",
    "            img.convert('1')\n",
    "            img = np.asarray(img)\n",
    "            if len(img.shape)==3:\n",
    "                img = img[:,:,0].reshape((escala**2 )) / 255\n",
    "            else:\n",
    "                img = img.reshape((escala**2 )) / 255\n",
    "            \n",
    "            imagenes.append( img )\n",
    "\n",
    "    return imagenes"
   ]
  },
  {
   "cell_type": "code",
   "execution_count": null,
   "metadata": {},
   "outputs": [],
   "source": [
    "def balancear_datos(imagenes_entrenamiento):\n",
    "    imagenes_entrenamiento_balanceadas = \n",
    "    return imagenes_entrenamiento_balanceadas"
   ]
  },
  {
   "cell_type": "code",
   "execution_count": null,
   "metadata": {},
   "outputs": [],
   "source": []
  }
 ],
 "metadata": {
  "kernelspec": {
   "display_name": "metodos",
   "language": "python",
   "name": "python3"
  },
  "language_info": {
   "codemirror_mode": {
    "name": "ipython",
    "version": 3
   },
   "file_extension": ".py",
   "mimetype": "text/x-python",
   "name": "python",
   "nbconvert_exporter": "python",
   "pygments_lexer": "ipython3",
   "version": "3.10.11"
  }
 },
 "nbformat": 4,
 "nbformat_minor": 2
}
