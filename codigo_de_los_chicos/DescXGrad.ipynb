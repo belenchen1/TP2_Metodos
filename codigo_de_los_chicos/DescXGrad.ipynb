{
 "cells": [
  {
   "cell_type": "code",
   "execution_count": 10,
   "metadata": {},
   "outputs": [],
   "source": [
    "import numpy as np\n",
    "import matplotlib.pyplot as plt\n",
    "from PIL import Image\n",
    "import os\n",
    "from utils import *"
   ]
  },
  {
   "cell_type": "code",
   "execution_count": 6,
   "metadata": {},
   "outputs": [],
   "source": [
    "def abrirImagenesEscaladas( carpeta, escala=32 ):\n",
    "    # abre todas las imagenes de la carpeta, y las escala de tal forma que midan (escala x escala)px\n",
    "    # devuelve las imagenes aplanadas -> vectores de tamano escala^2 con valores entre 0 y 1\n",
    "    imagenes = []\n",
    "\n",
    "    for dirpath, dirnames, filenames in os.walk(carpeta):\n",
    "        print('Cargando imagenes de', dirpath)\n",
    "        print('Cantidad de imagenes:', len(filenames))\n",
    "        print(\"filename 0:\", filenames[0])\n",
    "        for file in filenames:\n",
    "            img = Image.open( os.path.join(carpeta, file) )\n",
    "            img = img.resize((escala, escala))\n",
    "            img.convert('1')\n",
    "            img = np.asarray(img)\n",
    "            if len(img.shape)==3:\n",
    "                img = img[:,:,0].reshape((escala**2 )) / 255\n",
    "            else:\n",
    "                img = img.reshape((escala**2 )) / 255\n",
    "            \n",
    "            imagenes.append( img )\n",
    "\n",
    "    return imagenes"
   ]
  },
  {
   "cell_type": "code",
   "execution_count": 7,
   "metadata": {},
   "outputs": [],
   "source": [
    "def balancear_datos(imagenesCon, imagenesSin, cantidad):\n",
    "    ### probar con imagenes intercaladas y sin intercalar para la experimentacion y ver si cambia algo\n",
    "    print(len(imagenesCon))\n",
    "    print(len(imagenesSin))\n",
    "    \n",
    "    i = 0\n",
    "    imagenesBalanceadas:list[tuple] = []\n",
    "\n",
    "    while i < cantidad/2 -1:\n",
    "        print('i es'+str(i))\n",
    "        imagenesBalanceadas.append((imagenesCon[i], 1))\n",
    "        imagenesBalanceadas.append((imagenesSin[i], 0))\n",
    "        i += 1\n",
    "    \n",
    "    return imagenesBalanceadas"
   ]
  },
  {
   "cell_type": "code",
   "execution_count": 9,
   "metadata": {},
   "outputs": [
    {
     "name": "stdout",
     "output_type": "stream",
     "text": [
      "0\n",
      "0\n",
      "0\n",
      "i es0\n"
     ]
    },
    {
     "ename": "IndexError",
     "evalue": "list index out of range",
     "output_type": "error",
     "traceback": [
      "\u001b[1;31m---------------------------------------------------------------------------\u001b[0m",
      "\u001b[1;31mIndexError\u001b[0m                                Traceback (most recent call last)",
      "\u001b[1;32m<ipython-input-9-da8a99ac98e2>\u001b[0m in \u001b[0;36m<module>\u001b[1;34m\u001b[0m\n\u001b[0;32m     14\u001b[0m \u001b[0mprint\u001b[0m\u001b[1;33m(\u001b[0m\u001b[0mlen\u001b[0m\u001b[1;33m(\u001b[0m\u001b[0mimagenesCon\u001b[0m\u001b[1;33m)\u001b[0m\u001b[1;33m)\u001b[0m\u001b[1;33m\u001b[0m\u001b[0m\n\u001b[0;32m     15\u001b[0m \u001b[1;33m\u001b[0m\u001b[0m\n\u001b[1;32m---> 16\u001b[1;33m \u001b[0mimagenes\u001b[0m \u001b[1;33m=\u001b[0m \u001b[0mbalancear_datos\u001b[0m\u001b[1;33m(\u001b[0m\u001b[0mimagenesCon\u001b[0m\u001b[1;33m,\u001b[0m \u001b[0mimagenesSin\u001b[0m\u001b[1;33m,\u001b[0m \u001b[1;36m2600\u001b[0m\u001b[1;33m)\u001b[0m\u001b[1;33m\u001b[0m\u001b[0m\n\u001b[0m\u001b[0;32m     17\u001b[0m \u001b[1;33m\u001b[0m\u001b[0m\n\u001b[0;32m     18\u001b[0m \u001b[1;33m\u001b[0m\u001b[0m\n",
      "\u001b[1;32m<ipython-input-7-e7accb89ef46>\u001b[0m in \u001b[0;36mbalancear_datos\u001b[1;34m(imagenesCon, imagenesSin, cantidad)\u001b[0m\n\u001b[0;32m      9\u001b[0m     \u001b[1;32mwhile\u001b[0m \u001b[0mi\u001b[0m \u001b[1;33m<\u001b[0m \u001b[0mcantidad\u001b[0m\u001b[1;33m/\u001b[0m\u001b[1;36m2\u001b[0m \u001b[1;33m-\u001b[0m\u001b[1;36m1\u001b[0m\u001b[1;33m:\u001b[0m\u001b[1;33m\u001b[0m\u001b[0m\n\u001b[0;32m     10\u001b[0m         \u001b[0mprint\u001b[0m\u001b[1;33m(\u001b[0m\u001b[1;34m'i es'\u001b[0m\u001b[1;33m+\u001b[0m\u001b[0mstr\u001b[0m\u001b[1;33m(\u001b[0m\u001b[0mi\u001b[0m\u001b[1;33m)\u001b[0m\u001b[1;33m)\u001b[0m\u001b[1;33m\u001b[0m\u001b[0m\n\u001b[1;32m---> 11\u001b[1;33m         \u001b[0mimagenesBalanceadas\u001b[0m\u001b[1;33m.\u001b[0m\u001b[0mappend\u001b[0m\u001b[1;33m(\u001b[0m\u001b[1;33m(\u001b[0m\u001b[0mimagenesCon\u001b[0m\u001b[1;33m[\u001b[0m\u001b[0mi\u001b[0m\u001b[1;33m]\u001b[0m\u001b[1;33m,\u001b[0m \u001b[1;36m1\u001b[0m\u001b[1;33m)\u001b[0m\u001b[1;33m)\u001b[0m\u001b[1;33m\u001b[0m\u001b[0m\n\u001b[0m\u001b[0;32m     12\u001b[0m         \u001b[0mimagenesBalanceadas\u001b[0m\u001b[1;33m.\u001b[0m\u001b[0mappend\u001b[0m\u001b[1;33m(\u001b[0m\u001b[1;33m(\u001b[0m\u001b[0mimagenesSin\u001b[0m\u001b[1;33m[\u001b[0m\u001b[0mi\u001b[0m\u001b[1;33m]\u001b[0m\u001b[1;33m,\u001b[0m \u001b[1;36m0\u001b[0m\u001b[1;33m)\u001b[0m\u001b[1;33m)\u001b[0m\u001b[1;33m\u001b[0m\u001b[0m\n\u001b[0;32m     13\u001b[0m         \u001b[0mi\u001b[0m \u001b[1;33m+=\u001b[0m \u001b[1;36m1\u001b[0m\u001b[1;33m\u001b[0m\u001b[0m\n",
      "\u001b[1;31mIndexError\u001b[0m: list index out of range"
     ]
    }
   ],
   "source": [
    "# Definimos el alfa\n",
    "alpha = 0.1\n",
    "\n",
    "# Máxima cantidad de iteraciones (previene loops infinitos)\n",
    "max_iter = 1000\n",
    "\n",
    "# Criterio de convergencia (identifica un \"plateau\")\n",
    "tolerancia = 0.0001\n",
    "\n",
    "# traemos una las imagenes de entrenamiento\n",
    "imagenesCon = abrirImagenesEscaladas('../ChestXRay2017/chest_xray/train/PNEUMONIA') ## 3883 en total\n",
    "imagenesSin = abrirImagenesEscaladas('../ChestXRay2017/chest_xray/train/NORMAL') ## 1340 en total\n",
    "\n",
    "print(len(imagenesCon))\n",
    "\n",
    "imagenes = balancear_datos(imagenesCon, imagenesSin, 2600)\n",
    "\n",
    "\n",
    "w, b = train(imagenes, tolerancia, max_iter, alpha)\n",
    "\n",
    "imagenesTestCon = abrirImagenesEscaladas('../ChestXRay2017/chest_xray/test/PNEUMONIA')\n",
    "imagenesTestSin = abrirImagenesEscaladas('../ChestXRay2017/chest_xray/test/NORMAL')\n",
    "\n",
    "print(\"Testeando con imagenes de PNEUMONIA\")\n",
    "for img in imagenesTestCon:\n",
    "    print( fTest(img, w, b) )\n"
   ]
  }
 ],
 "metadata": {
  "kernelspec": {
   "display_name": "metodos",
   "language": "python",
   "name": "python3"
  },
  "language_info": {
   "codemirror_mode": {
    "name": "ipython",
    "version": 3
   },
   "file_extension": ".py",
   "mimetype": "text/x-python",
   "name": "python",
   "nbconvert_exporter": "python",
   "pygments_lexer": "ipython3",
   "version": "3.6.6"
  }
 },
 "nbformat": 4,
 "nbformat_minor": 2
}
