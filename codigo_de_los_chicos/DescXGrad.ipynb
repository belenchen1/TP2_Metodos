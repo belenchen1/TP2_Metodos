{
 "cells": [
  {
   "cell_type": "code",
   "execution_count": 2,
   "metadata": {},
   "outputs": [
    {
     "name": "stdout",
     "output_type": "stream",
     "text": [
      "Collecting numpy\n",
      "  Downloading numpy-2.0.0-cp312-cp312-win_amd64.whl.metadata (60 kB)\n",
      "     ---------------------------------------- 0.0/60.9 kB ? eta -:--:--\n",
      "     ------ --------------------------------- 10.2/60.9 kB ? eta -:--:--\n",
      "     ------------- ------------------------- 20.5/60.9 kB 93.1 kB/s eta 0:00:01\n",
      "     ------------------- ------------------ 30.7/60.9 kB 130.4 kB/s eta 0:00:01\n",
      "     ------------------------------- ------ 51.2/60.9 kB 187.0 kB/s eta 0:00:01\n",
      "     -------------------------------------- 60.9/60.9 kB 215.6 kB/s eta 0:00:00\n",
      "Downloading numpy-2.0.0-cp312-cp312-win_amd64.whl (16.2 MB)\n",
      "   ---------------------------------------- 0.0/16.2 MB ? eta -:--:--\n",
      "   - -------------------------------------- 0.5/16.2 MB 9.8 MB/s eta 0:00:02\n",
      "   -- ------------------------------------- 1.2/16.2 MB 12.6 MB/s eta 0:00:02\n",
      "   ---- ----------------------------------- 2.0/16.2 MB 15.6 MB/s eta 0:00:01\n",
      "   ------ --------------------------------- 2.7/16.2 MB 14.4 MB/s eta 0:00:01\n",
      "   -------- ------------------------------- 3.5/16.2 MB 15.7 MB/s eta 0:00:01\n",
      "   ---------- ----------------------------- 4.2/16.2 MB 14.8 MB/s eta 0:00:01\n",
      "   ------------ --------------------------- 5.0/16.2 MB 15.3 MB/s eta 0:00:01\n",
      "   ------------- -------------------------- 5.6/16.2 MB 15.0 MB/s eta 0:00:01\n",
      "   ----------------- ---------------------- 6.9/16.2 MB 14.8 MB/s eta 0:00:01\n",
      "   ------------------ --------------------- 7.6/16.2 MB 15.1 MB/s eta 0:00:01\n",
      "   ------------------ --------------------- 7.6/16.2 MB 15.1 MB/s eta 0:00:01\n",
      "   ------------------ --------------------- 7.6/16.2 MB 15.1 MB/s eta 0:00:01\n",
      "   ------------------ --------------------- 7.6/16.2 MB 15.1 MB/s eta 0:00:01\n",
      "   ------------------ --------------------- 7.6/16.2 MB 15.1 MB/s eta 0:00:01\n",
      "   ------------------ --------------------- 7.6/16.2 MB 15.1 MB/s eta 0:00:01\n",
      "   ------------------- -------------------- 8.0/16.2 MB 10.1 MB/s eta 0:00:01\n",
      "   --------------------- ------------------ 8.7/16.2 MB 10.3 MB/s eta 0:00:01\n",
      "   ---------------------- ----------------- 9.3/16.2 MB 10.4 MB/s eta 0:00:01\n",
      "   ------------------------ --------------- 9.7/16.2 MB 10.6 MB/s eta 0:00:01\n",
      "   ------------------------ --------------- 9.7/16.2 MB 10.6 MB/s eta 0:00:01\n",
      "   ------------------------ --------------- 9.7/16.2 MB 10.6 MB/s eta 0:00:01\n",
      "   ------------------------ --------------- 9.7/16.2 MB 10.6 MB/s eta 0:00:01\n",
      "   ------------------------ --------------- 9.7/16.2 MB 10.6 MB/s eta 0:00:01\n",
      "   ------------------------ --------------- 9.7/16.2 MB 10.6 MB/s eta 0:00:01\n",
      "   ------------------------- -------------- 10.3/16.2 MB 8.4 MB/s eta 0:00:01\n",
      "   --------------------------- ------------ 11.0/16.2 MB 8.6 MB/s eta 0:00:01\n",
      "   ---------------------------- ----------- 11.7/16.2 MB 8.5 MB/s eta 0:00:01\n",
      "   ----------------------------- ---------- 11.9/16.2 MB 8.5 MB/s eta 0:00:01\n",
      "   ------------------------------ --------- 12.3/16.2 MB 8.2 MB/s eta 0:00:01\n",
      "   ------------------------------ --------- 12.4/16.2 MB 8.1 MB/s eta 0:00:01\n",
      "   ------------------------------ --------- 12.4/16.2 MB 8.1 MB/s eta 0:00:01\n",
      "   ------------------------------ --------- 12.4/16.2 MB 8.1 MB/s eta 0:00:01\n",
      "   ------------------------------ --------- 12.4/16.2 MB 8.1 MB/s eta 0:00:01\n",
      "   ------------------------------ --------- 12.4/16.2 MB 8.1 MB/s eta 0:00:01\n",
      "   ------------------------------- -------- 12.7/16.2 MB 6.7 MB/s eta 0:00:01\n",
      "   --------------------------------- ------ 13.4/16.2 MB 6.7 MB/s eta 0:00:01\n",
      "   ---------------------------------- ----- 14.0/16.2 MB 6.7 MB/s eta 0:00:01\n",
      "   ----------------------------------- ---- 14.6/16.2 MB 6.7 MB/s eta 0:00:01\n",
      "   ------------------------------------ --- 14.7/16.2 MB 6.7 MB/s eta 0:00:01\n",
      "   ------------------------------------- -- 15.0/16.2 MB 6.5 MB/s eta 0:00:01\n",
      "   ------------------------------------- -- 15.2/16.2 MB 6.5 MB/s eta 0:00:01\n",
      "   -------------------------------------- - 15.4/16.2 MB 6.2 MB/s eta 0:00:01\n",
      "   ---------------------------------------  15.8/16.2 MB 6.2 MB/s eta 0:00:01\n",
      "   ---------------------------------------  16.0/16.2 MB 6.2 MB/s eta 0:00:01\n",
      "   ---------------------------------------  16.0/16.2 MB 6.2 MB/s eta 0:00:01\n",
      "   ---------------------------------------  16.0/16.2 MB 6.2 MB/s eta 0:00:01\n",
      "   ---------------------------------------  16.0/16.2 MB 6.2 MB/s eta 0:00:01\n",
      "   ---------------------------------------  16.0/16.2 MB 6.2 MB/s eta 0:00:01\n",
      "   ---------------------------------------  16.2/16.2 MB 5.4 MB/s eta 0:00:01\n",
      "   ---------------------------------------  16.2/16.2 MB 5.4 MB/s eta 0:00:01\n",
      "   ---------------------------------------- 16.2/16.2 MB 5.2 MB/s eta 0:00:00\n",
      "Installing collected packages: numpy\n",
      "Successfully installed numpy-2.0.0\n",
      "Note: you may need to restart the kernel to use updated packages.\n"
     ]
    }
   ],
   "source": [
    "pip install numpy"
   ]
  },
  {
   "cell_type": "code",
   "execution_count": 1,
   "metadata": {},
   "outputs": [
    {
     "ename": "ModuleNotFoundError",
     "evalue": "No module named 'numpy'",
     "output_type": "error",
     "traceback": [
      "\u001b[1;31m---------------------------------------------------------------------------\u001b[0m",
      "\u001b[1;31mModuleNotFoundError\u001b[0m                       Traceback (most recent call last)",
      "Cell \u001b[1;32mIn[1], line 1\u001b[0m\n\u001b[1;32m----> 1\u001b[0m \u001b[38;5;28;01mimport\u001b[39;00m \u001b[38;5;21;01mnumpy\u001b[39;00m \u001b[38;5;28;01mas\u001b[39;00m \u001b[38;5;21;01mnp\u001b[39;00m\n\u001b[0;32m      2\u001b[0m \u001b[38;5;28;01mimport\u001b[39;00m \u001b[38;5;21;01mmatplotlib\u001b[39;00m\u001b[38;5;21;01m.\u001b[39;00m\u001b[38;5;21;01mpyplot\u001b[39;00m \u001b[38;5;28;01mas\u001b[39;00m \u001b[38;5;21;01mplt\u001b[39;00m\n\u001b[0;32m      3\u001b[0m \u001b[38;5;28;01mfrom\u001b[39;00m \u001b[38;5;21;01mPIL\u001b[39;00m \u001b[38;5;28;01mimport\u001b[39;00m Image\n",
      "\u001b[1;31mModuleNotFoundError\u001b[0m: No module named 'numpy'"
     ]
    }
   ],
   "source": [
    "import numpy as np\n",
    "import matplotlib.pyplot as plt\n",
    "from PIL import Image\n",
    "import os\n",
    "from utils import *"
   ]
  },
  {
   "cell_type": "code",
   "execution_count": null,
   "metadata": {},
   "outputs": [],
   "source": [
    "def abrirImagenesEscaladas( carpeta, escala=32 ):\n",
    "    # abre todas las imagenes de la carpeta, y las escala de tal forma que midan (escala x escala)px\n",
    "    # devuelve las imagenes aplanadas -> vectores de tamano escala^2 con valores entre 0 y 1\n",
    "    imagenes = []\n",
    "\n",
    "    for dirpath, dirnames, filenames in os.walk(carpeta):\n",
    "        print('Cargando imagenes de', dirpath)\n",
    "        print('Cantidad de imagenes:', len(filenames))\n",
    "        print(\"filename 0:\", filenames[0])\n",
    "        for file in filenames:\n",
    "            img = Image.open( os.path.join(carpeta, file) )\n",
    "            img = img.resize((escala, escala))\n",
    "            img.convert('1')\n",
    "            img = np.asarray(img)\n",
    "            if len(img.shape)==3:\n",
    "                img = img[:,:,0].reshape((escala**2 )) / 255\n",
    "            else:\n",
    "                img = img.reshape((escala**2 )) / 255\n",
    "            \n",
    "            imagenes.append( img )\n",
    "\n",
    "    return imagenes"
   ]
  },
  {
   "cell_type": "code",
   "execution_count": null,
   "metadata": {},
   "outputs": [],
   "source": [
    "def balancear_datos(imagenesCon, imagenesSin, cantidad):\n",
    "    ### probar con imagenes intercaladas y sin intercalar para la experimentacion y ver si cambia algo\n",
    "    print(len(imagenesCon))\n",
    "    print(len(imagenesSin))\n",
    "    \n",
    "    i = 0\n",
    "    imagenesBalanceadas:list[tuple] = []\n",
    "\n",
    "    while i < cantidad/2 -1:\n",
    "        print('i es'+str(i))\n",
    "        imagenesBalanceadas.append((imagenesCon[i], 1))\n",
    "        imagenesBalanceadas.append((imagenesSin[i], 0))\n",
    "        i += 1\n",
    "    \n",
    "    return imagenesBalanceadas"
   ]
  },
  {
   "cell_type": "code",
   "execution_count": null,
   "metadata": {},
   "outputs": [
    {
     "name": "stdout",
     "output_type": "stream",
     "text": [
      "0\n",
      "0\n",
      "0\n",
      "i es0\n"
     ]
    },
    {
     "ename": "IndexError",
     "evalue": "list index out of range",
     "output_type": "error",
     "traceback": [
      "\u001b[1;31m---------------------------------------------------------------------------\u001b[0m",
      "\u001b[1;31mIndexError\u001b[0m                                Traceback (most recent call last)",
      "\u001b[1;32m<ipython-input-9-da8a99ac98e2>\u001b[0m in \u001b[0;36m<module>\u001b[1;34m\u001b[0m\n\u001b[0;32m     14\u001b[0m \u001b[0mprint\u001b[0m\u001b[1;33m(\u001b[0m\u001b[0mlen\u001b[0m\u001b[1;33m(\u001b[0m\u001b[0mimagenesCon\u001b[0m\u001b[1;33m)\u001b[0m\u001b[1;33m)\u001b[0m\u001b[1;33m\u001b[0m\u001b[0m\n\u001b[0;32m     15\u001b[0m \u001b[1;33m\u001b[0m\u001b[0m\n\u001b[1;32m---> 16\u001b[1;33m \u001b[0mimagenes\u001b[0m \u001b[1;33m=\u001b[0m \u001b[0mbalancear_datos\u001b[0m\u001b[1;33m(\u001b[0m\u001b[0mimagenesCon\u001b[0m\u001b[1;33m,\u001b[0m \u001b[0mimagenesSin\u001b[0m\u001b[1;33m,\u001b[0m \u001b[1;36m2600\u001b[0m\u001b[1;33m)\u001b[0m\u001b[1;33m\u001b[0m\u001b[0m\n\u001b[0m\u001b[0;32m     17\u001b[0m \u001b[1;33m\u001b[0m\u001b[0m\n\u001b[0;32m     18\u001b[0m \u001b[1;33m\u001b[0m\u001b[0m\n",
      "\u001b[1;32m<ipython-input-7-e7accb89ef46>\u001b[0m in \u001b[0;36mbalancear_datos\u001b[1;34m(imagenesCon, imagenesSin, cantidad)\u001b[0m\n\u001b[0;32m      9\u001b[0m     \u001b[1;32mwhile\u001b[0m \u001b[0mi\u001b[0m \u001b[1;33m<\u001b[0m \u001b[0mcantidad\u001b[0m\u001b[1;33m/\u001b[0m\u001b[1;36m2\u001b[0m \u001b[1;33m-\u001b[0m\u001b[1;36m1\u001b[0m\u001b[1;33m:\u001b[0m\u001b[1;33m\u001b[0m\u001b[0m\n\u001b[0;32m     10\u001b[0m         \u001b[0mprint\u001b[0m\u001b[1;33m(\u001b[0m\u001b[1;34m'i es'\u001b[0m\u001b[1;33m+\u001b[0m\u001b[0mstr\u001b[0m\u001b[1;33m(\u001b[0m\u001b[0mi\u001b[0m\u001b[1;33m)\u001b[0m\u001b[1;33m)\u001b[0m\u001b[1;33m\u001b[0m\u001b[0m\n\u001b[1;32m---> 11\u001b[1;33m         \u001b[0mimagenesBalanceadas\u001b[0m\u001b[1;33m.\u001b[0m\u001b[0mappend\u001b[0m\u001b[1;33m(\u001b[0m\u001b[1;33m(\u001b[0m\u001b[0mimagenesCon\u001b[0m\u001b[1;33m[\u001b[0m\u001b[0mi\u001b[0m\u001b[1;33m]\u001b[0m\u001b[1;33m,\u001b[0m \u001b[1;36m1\u001b[0m\u001b[1;33m)\u001b[0m\u001b[1;33m)\u001b[0m\u001b[1;33m\u001b[0m\u001b[0m\n\u001b[0m\u001b[0;32m     12\u001b[0m         \u001b[0mimagenesBalanceadas\u001b[0m\u001b[1;33m.\u001b[0m\u001b[0mappend\u001b[0m\u001b[1;33m(\u001b[0m\u001b[1;33m(\u001b[0m\u001b[0mimagenesSin\u001b[0m\u001b[1;33m[\u001b[0m\u001b[0mi\u001b[0m\u001b[1;33m]\u001b[0m\u001b[1;33m,\u001b[0m \u001b[1;36m0\u001b[0m\u001b[1;33m)\u001b[0m\u001b[1;33m)\u001b[0m\u001b[1;33m\u001b[0m\u001b[0m\n\u001b[0;32m     13\u001b[0m         \u001b[0mi\u001b[0m \u001b[1;33m+=\u001b[0m \u001b[1;36m1\u001b[0m\u001b[1;33m\u001b[0m\u001b[0m\n",
      "\u001b[1;31mIndexError\u001b[0m: list index out of range"
     ]
    }
   ],
   "source": [
    "# Definimos el alfa\n",
    "alpha = 0.1\n",
    "\n",
    "# Máxima cantidad de iteraciones (previene loops infinitos)\n",
    "max_iter = 1000\n",
    "\n",
    "# Criterio de convergencia (identifica un \"plateau\")\n",
    "tolerancia = 0.0001\n",
    "\n",
    "# traemos una las imagenes de entrenamiento\n",
    "imagenesCon = abrirImagenesEscaladas('../ChestXRay2017/chest_xray/train/PNEUMONIA') ## 3883 en total\n",
    "imagenesSin = abrirImagenesEscaladas('../ChestXRay2017/chest_xray/train/NORMAL') ## 1340 en total\n",
    "\n",
    "print(len(imagenesCon))\n",
    "\n",
    "imagenes = balancear_datos(imagenesCon, imagenesSin, 2600)\n",
    "\n",
    "\n",
    "w, b = train(imagenes, tolerancia, max_iter, alpha)\n",
    "\n",
    "imagenesTestCon = abrirImagenesEscaladas('../ChestXRay2017/chest_xray/test/PNEUMONIA')\n",
    "imagenesTestSin = abrirImagenesEscaladas('../ChestXRay2017/chest_xray/test/NORMAL')\n",
    "\n",
    "print(\"Testeando con imagenes de PNEUMONIA\")\n",
    "for img in imagenesTestCon:\n",
    "    print( fTest(img, w, b) )\n"
   ]
  }
 ],
 "metadata": {
  "kernelspec": {
   "display_name": "metodos",
   "language": "python",
   "name": "python3"
  },
  "language_info": {
   "codemirror_mode": {
    "name": "ipython",
    "version": 3
   },
   "file_extension": ".py",
   "mimetype": "text/x-python",
   "name": "python",
   "nbconvert_exporter": "python",
   "pygments_lexer": "ipython3",
   "version": "3.12.4"
  }
 },
 "nbformat": 4,
 "nbformat_minor": 2
}
